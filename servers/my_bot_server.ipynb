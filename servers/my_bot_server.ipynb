{
 "cells": [
  {
   "cell_type": "code",
   "execution_count": 1,
   "metadata": {},
   "outputs": [],
   "source": [
    "import locale\n",
    "locale.getpreferredencoding = lambda: \"UTF-8\"\n",
    "# ! pip install flask\n",
    "# ! pip install pyngrok"
   ]
  },
  {
   "cell_type": "code",
   "execution_count": 2,
   "metadata": {},
   "outputs": [
    {
     "name": "stderr",
     "output_type": "stream",
     "text": [
      "'killall' is not recognized as an internal or external command,\n",
      "operable program or batch file.\n"
     ]
    },
    {
     "name": "stdout",
     "output_type": "stream",
     "text": [
      "Authtoken saved to configuration file: C:\\Users\\Charan A A\\AppData\\Local/ngrok/ngrok.yml\n"
     ]
    }
   ],
   "source": [
    "! killall ngrok\n",
    "! ngrok config add-authtoken 2QN9JlBY91WFv2EKuaFUCPCBsJC_7cK8YoEkQbjHj3pnnNpD5"
   ]
  },
  {
   "cell_type": "code",
   "execution_count": 3,
   "metadata": {},
   "outputs": [
    {
     "name": "stderr",
     "output_type": "stream",
     "text": [
      "d:\\python\\Lib\\site-packages\\tqdm\\auto.py:21: TqdmWarning: IProgress not found. Please update jupyter and ipywidgets. See https://ipywidgets.readthedocs.io/en/stable/user_install.html\n",
      "  from .autonotebook import tqdm as notebook_tqdm\n",
      "t=2024-02-03T11:20:40+0530 lvl=warn msg=\"can't bind default web address, trying alternatives\" obj=web addr=127.0.0.1:4040\n"
     ]
    },
    {
     "name": "stdout",
     "output_type": "stream",
     "text": [
      " * ngrok tunnel \"https://64e4-103-196-28-194.ngrok-free.app\" -> \"http://127.0.0.1:5000\"\n",
      "public_url ================ >  https://64e4-103-196-28-194.ngrok-free.app\n",
      " * Serving Flask app '__main__'\n",
      " * Debug mode: off\n"
     ]
    },
    {
     "name": "stderr",
     "output_type": "stream",
     "text": [
      "WARNING: This is a development server. Do not use it in a production deployment. Use a production WSGI server instead.\n",
      " * Running on http://127.0.0.1:5000\n",
      "Press CTRL+C to quit\n"
     ]
    }
   ],
   "source": [
    "import os\n",
    "import threading\n",
    "\n",
    "import google.generativeai as genai\n",
    "from dotenv import load_dotenv\n",
    "import os\n",
    "\n",
    "from flask import Flask, render_template\n",
    "from pyngrok import ngrok, conf\n",
    "from flask import request\n",
    "\n",
    "\n",
    "# Load environment variables from the .env file\n",
    "load_dotenv()\n",
    "# Access the environment variable\n",
    "api_key = os.getenv(\"OPENAI_API_KEY\")\n",
    "\n",
    "app = Flask(__name__)\n",
    "port = 5000\n",
    "\n",
    "# Open a ngrok tunnel to the HTTP server\n",
    "public_url = ngrok.connect(port).public_url\n",
    "print(\" * ngrok tunnel \\\"{}\\\" -> \\\"http://127.0.0.1:{}\\\"\".format(public_url, port))\n",
    "\n",
    "print(\"public_url ================ > \" , public_url)\n",
    "\n",
    "\n",
    "# Update any base URLs to use the public ngrok URL\n",
    "app.config[\"BASE_URL\"] = public_url\n",
    "\n",
    "# ... Update inbound traffic via APIs to use the public-facing ngrok URL\n",
    "\n",
    "model = genai.GenerativeModel('gemini-pro')\n",
    "chat = model.start_chat(history=[])\n",
    "\n",
    "# Define Flask routes\n",
    "@app.route(\"/text\", methods=['GET', 'POST'])\n",
    "def index():\n",
    "    \n",
    "    global chat,model,api_key\n",
    "    genai.configure(api_key=api_key)\n",
    "\n",
    "    # content_type = request.headers.get('Content-Type')\n",
    "\n",
    "    if request.args.get('question'):\n",
    "\n",
    "        query = request.args.get(\"question\")\n",
    "        \n",
    "        safety_ratings = {\n",
    "        'HARM_CATEGORY_SEXUALLY_EXPLICIT':'block_none',\n",
    "        'HARM_CATEGORY_HATE_SPEECH': 'block_none',\n",
    "        'HARM_CATEGORY_HARASSMENT': 'block_none',\n",
    "        'HARM_CATEGORY_DANGEROUS_CONTENT' : 'block_none'\n",
    "        }\n",
    "                           \n",
    "        response = chat.send_message('you should act as medical health care chatbot'  + '\\n' + query ,safety_settings=safety_ratings)\n",
    "        \n",
    "        response = response.text\n",
    "        \n",
    "        print(response)\n",
    "        \n",
    "        return response\n",
    "        \n",
    "    else:\n",
    "        return 'Error'\n",
    "\n",
    "if __name__ == '__main__':\n",
    "    app.run()"
   ]
  },
  {
   "cell_type": "code",
   "execution_count": null,
   "metadata": {},
   "outputs": [],
   "source": []
  }
 ],
 "metadata": {
  "kernelspec": {
   "display_name": "Python 3",
   "language": "python",
   "name": "python3"
  },
  "language_info": {
   "codemirror_mode": {
    "name": "ipython",
    "version": 3
   },
   "file_extension": ".py",
   "mimetype": "text/x-python",
   "name": "python",
   "nbconvert_exporter": "python",
   "pygments_lexer": "ipython3",
   "version": "3.11.6"
  }
 },
 "nbformat": 4,
 "nbformat_minor": 2
}
